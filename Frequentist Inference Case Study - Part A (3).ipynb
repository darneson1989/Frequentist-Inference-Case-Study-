{
 "cells": [
  {
   "cell_type": "markdown",
   "metadata": {},
   "source": [
    "# Frequentist Inference Case Study - Part A "
   ]
  },
  {
   "cell_type": "markdown",
   "metadata": {},
   "source": [
    "## 1. Learning objectives"
   ]
  },
  {
   "cell_type": "markdown",
   "metadata": {},
   "source": [
    "Welcome to part A of the Frequentist inference case study! The purpose of this case study is to help you apply the concepts associated with Frequentist inference in Python. Frequentist inference is the process of deriving conclusions about an underlying distribution via the observation of data. In particular, you'll practice writing Python code to apply the following statistical concepts: \n",
    "* the _z_-statistic\n",
    "* the _t_-statistic\n",
    "* the difference and relationship between the two\n",
    "* the Central Limit Theorem, including its assumptions and consequences\n",
    "* how to estimate the population mean and standard deviation from a sample\n",
    "* the concept of a sampling distribution of a test statistic, particularly for the mean\n",
    "* how to combine these concepts to calculate a confidence interval"
   ]
  },
  {
   "cell_type": "markdown",
   "metadata": {},
   "source": [
    "## Prerequisites"
   ]
  },
  {
   "cell_type": "markdown",
   "metadata": {},
   "source": [
    "To be able to complete this notebook, you are expected to have a basic understanding of:\n",
    "* what a random variable is (p.400 of Professor Spiegelhalter's *The Art of Statistics, hereinafter AoS*)\n",
    "* what a population, and a population distribution, are (p. 397 of *AoS*)\n",
    "* a high-level sense of what the normal distribution is (p. 394 of *AoS*)\n",
    "* what the t-statistic is (p. 275 of *AoS*)\n",
    "\n",
    "Happily, these should all be concepts with which you are reasonably familiar after having read ten chapters of Professor Spiegelhalter's book, *The Art of Statistics*.\n",
    "\n",
    "We'll try to relate the concepts in this case study back to page numbers in *The Art of Statistics* so that you can focus on the Python aspects of this case study. The second part (part B) of this case study will involve another, more real-world application of these tools. "
   ]
  },
  {
   "cell_type": "markdown",
   "metadata": {},
   "source": [
    "For this notebook, we will use data sampled from a known normal distribution. This allows us to compare our results with theoretical expectations."
   ]
  },
  {
   "cell_type": "markdown",
   "metadata": {},
   "source": [
    "## 2. An introduction to sampling from the normal distribution"
   ]
  },
  {
   "cell_type": "markdown",
   "metadata": {},
   "source": [
    "First, let's explore the ways we can generate the normal distribution. While there's a fair amount of interest in [sklearn](https://scikit-learn.org/stable/) within the machine learning community, you're likely to have heard of [scipy](https://docs.scipy.org/doc/scipy-0.15.1/reference/index.html) if you're coming from the sciences. For this assignment, you'll use [scipy.stats](https://docs.scipy.org/doc/scipy-0.15.1/reference/tutorial/stats.html) to complete your work. \n",
    "\n",
    "This assignment will require some digging around and getting your hands dirty (your learning is maximized that way)! You should have the research skills and the tenacity to do these tasks independently, but if you struggle, reach out to your immediate community and your mentor for help. "
   ]
  },
  {
   "cell_type": "code",
   "execution_count": 44,
   "metadata": {},
   "outputs": [],
   "source": [
    "from scipy.stats import norm\n",
    "from scipy.stats import t\n",
    "import numpy as np\n",
    "import pandas as pd\n",
    "from numpy.random import seed\n",
    "import matplotlib.pyplot as plt"
   ]
  },
  {
   "cell_type": "markdown",
   "metadata": {},
   "source": [
    "__Q1:__ Call up the documentation for the `norm` function imported above. (Hint: that documentation is [here](https://docs.scipy.org/doc/scipy/reference/generated/scipy.stats.norm.html)). What is the second listed method?"
   ]
  },
  {
   "cell_type": "raw",
   "metadata": {},
   "source": [
    "Probability Denisty Function "
   ]
  },
  {
   "cell_type": "markdown",
   "metadata": {},
   "source": [
    "__A:Probability Denisty Function "
   ]
  },
  {
   "cell_type": "markdown",
   "metadata": {},
   "source": [
    "__Q2:__ Use the method that generates random variates to draw five samples from the standard normal distribution. "
   ]
  },
  {
   "cell_type": "markdown",
   "metadata": {},
   "source": [
    "__A:__"
   ]
  },
  {
   "cell_type": "code",
   "execution_count": 45,
   "metadata": {},
   "outputs": [
    {
     "data": {
      "text/plain": [
       "array([0.11348847, 0.97448309, 0.72873463, 0.35146781, 0.70760514])"
      ]
     },
     "execution_count": 45,
     "metadata": {},
     "output_type": "execute_result"
    }
   ],
   "source": [
    "seed(47)\n",
    "# draw five samples here\n",
    "np.random.seed(47)\n",
    "random =np.random.random(size =5)\n",
    "random"
   ]
  },
  {
   "cell_type": "markdown",
   "metadata": {},
   "source": [
    "__Q3:__ What is the mean of this sample? Is it exactly equal to the value you expected? Hint: the sample was drawn from the standard normal distribution. If you want a reminder of the properties of this distribution, check out p. 85 of *AoS*. "
   ]
  },
  {
   "cell_type": "markdown",
   "metadata": {},
   "source": [
    "__A:__"
   ]
  },
  {
   "cell_type": "code",
   "execution_count": 46,
   "metadata": {},
   "outputs": [
    {
     "data": {
      "text/plain": [
       "0.575155828796599"
      ]
     },
     "execution_count": 46,
     "metadata": {},
     "output_type": "execute_result"
    }
   ],
   "source": [
    "# Calculate and print the mean here, hint: use np.mean()\n",
    "mean = np.mean(random)\n",
    "mean"
   ]
  },
  {
   "cell_type": "markdown",
   "metadata": {},
   "source": [
    "__Q4:__ What is the standard deviation of these numbers? Calculate this manually here as $\\sqrt{\\frac{\\sum_i(x_i - \\bar{x})^2}{n}}$ (This is just the definition of **standard deviation** given by Professor Spiegelhalter on p.403 of *AoS*). Hint: np.sqrt() and np.sum() will be useful here and remember that numPy supports [broadcasting](https://docs.scipy.org/doc/numpy/user/basics.broadcasting.html)."
   ]
  },
  {
   "cell_type": "markdown",
   "metadata": {},
   "source": [
    "__A:__"
   ]
  },
  {
   "cell_type": "code",
   "execution_count": 47,
   "metadata": {},
   "outputs": [
    {
     "data": {
      "text/plain": [
       "0.3045536451712141"
      ]
     },
     "execution_count": 47,
     "metadata": {},
     "output_type": "execute_result"
    }
   ],
   "source": [
    "rsd= np.std(random)\n",
    "rsd"
   ]
  },
  {
   "cell_type": "markdown",
   "metadata": {},
   "source": [
    "Here we have calculated the actual standard deviation of a small data set (of size 5). But in this case, this small data set is actually a sample from our larger (infinite) population. In this case, the population is infinite because we could keep drawing our normal random variates until our computers die! \n",
    "\n",
    "In general, the sample mean we calculate will not be equal to the population mean (as we saw above). A consequence of this is that the sum of squares of the deviations from the _population_ mean will be bigger than the sum of squares of the deviations from the _sample_ mean. In other words, the sum of squares of the deviations from the _sample_ mean is too small to give an unbiased estimate of the _population_ variance. An example of this effect is given [here](https://en.wikipedia.org/wiki/Bessel%27s_correction#Source_of_bias). Scaling our estimate of the variance by the factor $n/(n-1)$ gives an unbiased estimator of the population variance. This factor is known as [Bessel's correction](https://en.wikipedia.org/wiki/Bessel%27s_correction). The consequence of this is that the $n$ in the denominator is replaced by $n-1$.\n",
    "\n",
    "You can see Bessel's correction reflected in Professor Spiegelhalter's definition of **variance** on p. 405 of *AoS*.\n",
    "\n",
    "__Q5:__ If all we had to go on was our five samples, what would be our best estimate of the population standard deviation? Use Bessel's correction ($n-1$ in the denominator), thus $\\sqrt{\\frac{\\sum_i(x_i - \\bar{x})^2}{n-1}}$."
   ]
  },
  {
   "cell_type": "markdown",
   "metadata": {},
   "source": [
    "__A:__"
   ]
  },
  {
   "cell_type": "code",
   "execution_count": 50,
   "metadata": {},
   "outputs": [
    {
     "data": {
      "text/plain": [
       "0.0"
      ]
     },
     "execution_count": 50,
     "metadata": {},
     "output_type": "execute_result"
    }
   ],
   "source": [
    "variable = sum((x - mean)**2 for x in random) / (len(random) - 1)\n",
    "rsd2= np.std(variable)\n",
    "rsd2"
   ]
  },
  {
   "cell_type": "code",
   "execution_count": 51,
   "metadata": {},
   "outputs": [
    {
     "data": {
      "text/plain": [
       "0.0"
      ]
     },
     "execution_count": 51,
     "metadata": {},
     "output_type": "execute_result"
    }
   ],
   "source": [
    "summation= sum((x-mean) ** 2 for x in random)\n",
    "summation\n",
    "variable2 = summation/(len(random))\n",
    "rsd3 = np.std(variable2)\n",
    "rsd3"
   ]
  },
  {
   "cell_type": "markdown",
   "metadata": {},
   "source": [
    "__Q6:__ Now use numpy's std function to calculate the standard deviation of our random samples. Which of the above standard deviations did it return?"
   ]
  },
  {
   "cell_type": "markdown",
   "metadata": {},
   "source": [
    "__A:__"
   ]
  },
  {
   "cell_type": "code",
   "execution_count": 52,
   "metadata": {},
   "outputs": [
    {
     "data": {
      "text/plain": [
       "0.3045536451712141"
      ]
     },
     "execution_count": 52,
     "metadata": {},
     "output_type": "execute_result"
    }
   ],
   "source": [
    "rsd= np.std(random)\n",
    "rsd"
   ]
  },
  {
   "cell_type": "markdown",
   "metadata": {},
   "source": [
    "__Q7:__ Consult the documentation for np.std() to see how to apply the correction for estimating the population parameter and verify this produces the expected result."
   ]
  },
  {
   "cell_type": "markdown",
   "metadata": {},
   "source": [
    "__A:__"
   ]
  },
  {
   "cell_type": "code",
   "execution_count": 53,
   "metadata": {},
   "outputs": [
    {
     "data": {
      "text/plain": [
       "0.34050132669909267"
      ]
     },
     "execution_count": 53,
     "metadata": {},
     "output_type": "execute_result"
    }
   ],
   "source": [
    "np.std(random, ddof=1)"
   ]
  },
  {
   "cell_type": "code",
   "execution_count": null,
   "metadata": {},
   "outputs": [],
   "source": []
  },
  {
   "cell_type": "markdown",
   "metadata": {},
   "source": [
    "### Summary of section"
   ]
  },
  {
   "cell_type": "markdown",
   "metadata": {},
   "source": [
    "In this section, you've been introduced to the scipy.stats package and used it to draw a small sample from the standard normal distribution. You've calculated the average (the mean) of this sample and seen that this is not exactly equal to the expected population parameter (which we know because we're generating the random variates from a specific, known distribution). You've been introduced to two ways of calculating the standard deviation; one uses $n$ in the denominator and the other uses $n-1$ (Bessel's correction). You've also seen which of these calculations np.std() performs by default and how to get it to generate the other."
   ]
  },
  {
   "cell_type": "markdown",
   "metadata": {},
   "source": [
    "You use $n$ as the denominator if you want to calculate the standard deviation of a sequence of numbers. You use $n-1$ if you are using this sequence of numbers to estimate the population parameter. This brings us to some terminology that can be a little confusing.\n",
    "\n",
    "The population parameter is traditionally written as $\\sigma$ and the sample statistic as $s$. Rather unhelpfully, $s$ is also called the sample standard deviation (using $n-1$) whereas the standard deviation of the sample uses $n$. That's right, we have the sample standard deviation and the standard deviation of the sample and they're not the same thing!\n",
    "\n",
    "The sample standard deviation\n",
    "\\begin{equation}\n",
    "s = \\sqrt{\\frac{\\sum_i(x_i - \\bar{x})^2}{n-1}} \\approx \\sigma,\n",
    "\\end{equation}\n",
    "is our best (unbiased) estimate of the population parameter ($\\sigma$).\n",
    "\n",
    "If your dataset _is_ your entire population, you simply want to calculate the population parameter, $\\sigma$, via\n",
    "\\begin{equation}\n",
    "\\sigma = \\sqrt{\\frac{\\sum_i(x_i - \\bar{x})^2}{n}}\n",
    "\\end{equation}\n",
    "as you have complete, full knowledge of your population. In other words, your sample _is_ your population. It's worth noting that we're dealing with what Professor Spiegehalter describes on p. 92 of *AoS* as a **metaphorical population**: we have all the data, and we act as if the data-point is taken from a population at random. We can think of this population as an imaginary space of possibilities. \n",
    "\n",
    "If, however, you have sampled _from_ your population, you only have partial knowledge of the state of your population. In this case, the standard deviation of your sample is not an unbiased estimate of the standard deviation of the population, in which case you seek to estimate that population parameter via the sample standard deviation, which uses the $n-1$ denominator."
   ]
  },
  {
   "cell_type": "markdown",
   "metadata": {},
   "source": [
    "Great work so far! Now let's dive deeper."
   ]
  },
  {
   "cell_type": "markdown",
   "metadata": {},
   "source": [
    "## 3. Sampling distributions"
   ]
  },
  {
   "cell_type": "markdown",
   "metadata": {},
   "source": [
    "So far we've been dealing with the concept of taking a sample from a population to infer the population parameters. One statistic we calculated for a sample was the mean. As our samples will be expected to vary from one draw to another, so will our sample statistics. If we were to perform repeat draws of size $n$ and calculate the mean of each, we would expect to obtain a distribution of values. This is the sampling distribution of the mean. **The Central Limit Theorem (CLT)** tells us that such a distribution will approach a normal distribution as $n$ increases (the intuitions behind the CLT are covered in full on p. 236 of *AoS*). For the sampling distribution of the mean, the standard deviation of this distribution is given by\n",
    "\n",
    "\\begin{equation}\n",
    "\\sigma_{mean} = \\frac{\\sigma}{\\sqrt n}\n",
    "\\end{equation}\n",
    "\n",
    "where $\\sigma_{mean}$ is the standard deviation of the sampling distribution of the mean and $\\sigma$ is the standard deviation of the population (the population parameter)."
   ]
  },
  {
   "cell_type": "markdown",
   "metadata": {},
   "source": [
    "This is important because typically we are dealing with samples from populations and all we know about the population is what we see in the sample. From this sample, we want to make inferences about the population. We may do this, for example, by looking at the histogram of the values and by calculating the mean and standard deviation (as estimates of the population parameters), and so we are intrinsically interested in how these quantities vary across samples. \n",
    "\n",
    "In other words, now that we've taken one sample of size $n$ and made some claims about the general population, what if we were to take another sample of size $n$? Would we get the same result? Would we make the same claims about the general population? This brings us to a fundamental question: _when we make some inference about a population based on our sample, how confident can we be that we've got it 'right'?_\n",
    "\n",
    "We need to think about **estimates and confidence intervals**: those concepts covered in Chapter 7, p. 189, of *AoS*."
   ]
  },
  {
   "cell_type": "markdown",
   "metadata": {},
   "source": [
    "Now, the standard normal distribution (with its variance equal to its standard deviation of one) would not be a great illustration of a key point. Instead, let's imagine we live in a town of 50,000 people and we know the height of everyone in this town. We will have 50,000 numbers that tell us everything about our population. We'll simulate these numbers now and put ourselves in one particular town, called 'town 47', where the population mean height is 172 cm and population standard deviation is 5 cm."
   ]
  },
  {
   "cell_type": "code",
   "execution_count": 54,
   "metadata": {},
   "outputs": [],
   "source": [
    "seed(47)\n",
    "pop_heights = norm.rvs(172, 5, size=50000)"
   ]
  },
  {
   "cell_type": "code",
   "execution_count": 55,
   "metadata": {},
   "outputs": [
    {
     "data": {
      "image/png": "[encoded data removed]",
      "text/plain": [
       "<Figure size 432x288 with 1 Axes>"
      ]
     },
     "metadata": {
      "needs_background": "light"
     },
     "output_type": "display_data"
    }
   ],
   "source": [
    "_ = plt.hist(pop_heights, bins=30)\n",
    "_ = plt.xlabel('height (cm)')\n",
    "_ = plt.ylabel('number of people')\n",
    "_ = plt.title('Distribution of heights in entire town population')\n",
    "_ = plt.axvline(172, color='r')\n",
    "_ = plt.axvline(172+5, color='r', linestyle='--')\n",
    "_ = plt.axvline(172-5, color='r', linestyle='--')\n",
    "_ = plt.axvline(172+10, color='r', linestyle='-.')\n",
    "_ = plt.axvline(172-10, color='r', linestyle='-.')"
   ]
  },
  {
   "cell_type": "markdown",
   "metadata": {},
   "source": [
    "Now, 50,000 people is rather a lot to chase after with a tape measure. If all you want to know is the average height of the townsfolk, then can you just go out and measure a sample to get a pretty good estimate of the average height?"
   ]
  },
  {
   "cell_type": "code",
   "execution_count": 56,
   "metadata": {},
   "outputs": [],
   "source": [
    "def townsfolk_sampler(n):\n",
    "    return np.random.choice(pop_heights, n)"
   ]
  },
  {
   "cell_type": "markdown",
   "metadata": {},
   "source": [
    "Let's say you go out one day and randomly sample 10 people to measure."
   ]
  },
  {
   "cell_type": "code",
   "execution_count": 57,
   "metadata": {},
   "outputs": [],
   "source": [
    "seed(47)\n",
    "daily_sample1 = townsfolk_sampler(10)"
   ]
  },
  {
   "cell_type": "code",
   "execution_count": 58,
   "metadata": {},
   "outputs": [
    {
     "data": {
      "image/png": "[encoded data removed]",
      "text/plain": [
       "<Figure size 432x288 with 1 Axes>"
      ]
     },
     "metadata": {
      "needs_background": "light"
     },
     "output_type": "display_data"
    }
   ],
   "source": [
    "_ = plt.hist(daily_sample1, bins=10)\n",
    "_ = plt.xlabel('height (cm)')\n",
    "_ = plt.ylabel('number of people')\n",
    "_ = plt.title('Distribution of heights in sample size 10')"
   ]
  },
  {
   "cell_type": "markdown",
   "metadata": {},
   "source": [
    "The sample distribution doesn't resemble what we take the population distribution to be. What do we get for the mean?"
   ]
  },
  {
   "cell_type": "code",
   "execution_count": 59,
   "metadata": {},
   "outputs": [
    {
     "data": {
      "text/plain": [
       "173.47911444163503"
      ]
     },
     "execution_count": 59,
     "metadata": {},
     "output_type": "execute_result"
    }
   ],
   "source": [
    "np.mean(daily_sample1)"
   ]
  },
  {
   "cell_type": "markdown",
   "metadata": {},
   "source": [
    "And if we went out and repeated this experiment?"
   ]
  },
  {
   "cell_type": "code",
   "execution_count": 60,
   "metadata": {},
   "outputs": [],
   "source": [
    "daily_sample2 = townsfolk_sampler(10)"
   ]
  },
  {
   "cell_type": "code",
   "execution_count": 61,
   "metadata": {},
   "outputs": [
    {
     "data": {
      "text/plain": [
       "173.7317666636263"
      ]
     },
     "execution_count": 61,
     "metadata": {},
     "output_type": "execute_result"
    }
   ],
   "source": [
    "np.mean(daily_sample2)"
   ]
  },
  {
   "cell_type": "markdown",
   "metadata": {},
   "source": [
    "__Q8:__ Simulate performing this random trial every day for a year, calculating the mean of each daily sample of 10, and plot the resultant sampling distribution of the mean."
   ]
  },
  {
   "cell_type": "markdown",
   "metadata": {},
   "source": [
    "__A:__"
   ]
  },
  {
   "cell_type": "code",
   "execution_count": 62,
   "metadata": {},
   "outputs": [],
   "source": [
    "year_sample = [] \n",
    "for x in range(365):\n",
    "    height= townsfolk_sampler(10)\n",
    "    year_sample.append(height)"
   ]
  },
  {
   "cell_type": "code",
   "execution_count": 63,
   "metadata": {},
   "outputs": [
    {
     "data": {
      "text/html": [
       "<div>\n",
       "<style scoped>\n",
       "    .dataframe tbody tr th:only-of-type {\n",
       "        vertical-align: middle;\n",
       "    }\n",
       "\n",
       "    .dataframe tbody tr th {\n",
       "        vertical-align: top;\n",
       "    }\n",
       "\n",
       "    .dataframe thead th {\n",
       "        text-align: right;\n",
       "    }\n",
       "</style>\n",
       "<table border=\"1\" class=\"dataframe\">\n",
       "  <thead>\n",
       "    <tr style=\"text-align: right;\">\n",
       "      <th></th>\n",
       "      <th>0</th>\n",
       "      <th>1</th>\n",
       "      <th>2</th>\n",
       "      <th>3</th>\n",
       "      <th>4</th>\n",
       "      <th>5</th>\n",
       "      <th>6</th>\n",
       "      <th>7</th>\n",
       "      <th>8</th>\n",
       "      <th>9</th>\n",
       "      <th>avg_height</th>\n",
       "    </tr>\n",
       "  </thead>\n",
       "  <tbody>\n",
       "    <tr>\n",
       "      <th>0</th>\n",
       "      <td>171.528746</td>\n",
       "      <td>173.489706</td>\n",
       "      <td>172.075246</td>\n",
       "      <td>172.297075</td>\n",
       "      <td>171.582026</td>\n",
       "      <td>169.844804</td>\n",
       "      <td>178.671042</td>\n",
       "      <td>174.283464</td>\n",
       "      <td>174.296455</td>\n",
       "      <td>167.420822</td>\n",
       "      <td>172.548939</td>\n",
       "    </tr>\n",
       "    <tr>\n",
       "      <th>1</th>\n",
       "      <td>168.579392</td>\n",
       "      <td>169.543926</td>\n",
       "      <td>167.586213</td>\n",
       "      <td>176.865709</td>\n",
       "      <td>164.257554</td>\n",
       "      <td>177.389296</td>\n",
       "      <td>171.979645</td>\n",
       "      <td>164.941361</td>\n",
       "      <td>177.906753</td>\n",
       "      <td>175.275884</td>\n",
       "      <td>171.432573</td>\n",
       "    </tr>\n",
       "    <tr>\n",
       "      <th>2</th>\n",
       "      <td>176.643367</td>\n",
       "      <td>169.680137</td>\n",
       "      <td>175.418520</td>\n",
       "      <td>171.940892</td>\n",
       "      <td>179.698440</td>\n",
       "      <td>169.936519</td>\n",
       "      <td>169.332098</td>\n",
       "      <td>172.170109</td>\n",
       "      <td>171.187831</td>\n",
       "      <td>171.143701</td>\n",
       "      <td>172.715161</td>\n",
       "    </tr>\n",
       "    <tr>\n",
       "      <th>3</th>\n",
       "      <td>180.936662</td>\n",
       "      <td>175.347241</td>\n",
       "      <td>170.085269</td>\n",
       "      <td>171.324586</td>\n",
       "      <td>180.932398</td>\n",
       "      <td>165.674538</td>\n",
       "      <td>176.644339</td>\n",
       "      <td>166.256302</td>\n",
       "      <td>175.056624</td>\n",
       "      <td>166.021991</td>\n",
       "      <td>172.827995</td>\n",
       "    </tr>\n",
       "    <tr>\n",
       "      <th>4</th>\n",
       "      <td>177.374338</td>\n",
       "      <td>172.933486</td>\n",
       "      <td>167.443324</td>\n",
       "      <td>157.052178</td>\n",
       "      <td>172.309116</td>\n",
       "      <td>173.766779</td>\n",
       "      <td>170.228572</td>\n",
       "      <td>174.543007</td>\n",
       "      <td>185.491449</td>\n",
       "      <td>176.068213</td>\n",
       "      <td>172.721046</td>\n",
       "    </tr>\n",
       "    <tr>\n",
       "      <th>...</th>\n",
       "      <td>...</td>\n",
       "      <td>...</td>\n",
       "      <td>...</td>\n",
       "      <td>...</td>\n",
       "      <td>...</td>\n",
       "      <td>...</td>\n",
       "      <td>...</td>\n",
       "      <td>...</td>\n",
       "      <td>...</td>\n",
       "      <td>...</td>\n",
       "      <td>...</td>\n",
       "    </tr>\n",
       "    <tr>\n",
       "      <th>360</th>\n",
       "      <td>169.997481</td>\n",
       "      <td>168.822846</td>\n",
       "      <td>172.769178</td>\n",
       "      <td>171.768744</td>\n",
       "      <td>177.402411</td>\n",
       "      <td>176.493182</td>\n",
       "      <td>172.548642</td>\n",
       "      <td>163.978009</td>\n",
       "      <td>177.442528</td>\n",
       "      <td>167.801877</td>\n",
       "      <td>171.902490</td>\n",
       "    </tr>\n",
       "    <tr>\n",
       "      <th>361</th>\n",
       "      <td>173.983614</td>\n",
       "      <td>173.650532</td>\n",
       "      <td>176.418112</td>\n",
       "      <td>168.608889</td>\n",
       "      <td>169.498769</td>\n",
       "      <td>175.352139</td>\n",
       "      <td>168.420727</td>\n",
       "      <td>167.023912</td>\n",
       "      <td>167.077024</td>\n",
       "      <td>164.540676</td>\n",
       "      <td>170.457439</td>\n",
       "    </tr>\n",
       "    <tr>\n",
       "      <th>362</th>\n",
       "      <td>176.463237</td>\n",
       "      <td>165.947239</td>\n",
       "      <td>168.933424</td>\n",
       "      <td>165.515799</td>\n",
       "      <td>171.555231</td>\n",
       "      <td>178.305695</td>\n",
       "      <td>176.062416</td>\n",
       "      <td>169.183614</td>\n",
       "      <td>167.987355</td>\n",
       "      <td>176.494783</td>\n",
       "      <td>171.644879</td>\n",
       "    </tr>\n",
       "    <tr>\n",
       "      <th>363</th>\n",
       "      <td>168.667508</td>\n",
       "      <td>177.314934</td>\n",
       "      <td>157.417665</td>\n",
       "      <td>182.888838</td>\n",
       "      <td>173.806810</td>\n",
       "      <td>162.079151</td>\n",
       "      <td>166.719585</td>\n",
       "      <td>167.220830</td>\n",
       "      <td>165.991688</td>\n",
       "      <td>175.620287</td>\n",
       "      <td>169.772730</td>\n",
       "    </tr>\n",
       "    <tr>\n",
       "      <th>364</th>\n",
       "      <td>178.658251</td>\n",
       "      <td>168.291339</td>\n",
       "      <td>181.215527</td>\n",
       "      <td>173.152112</td>\n",
       "      <td>174.048140</td>\n",
       "      <td>169.460174</td>\n",
       "      <td>170.285916</td>\n",
       "      <td>175.800064</td>\n",
       "      <td>169.104862</td>\n",
       "      <td>173.217709</td>\n",
       "      <td>173.323409</td>\n",
       "    </tr>\n",
       "  </tbody>\n",
       "</table>\n",
       "<p>365 rows × 11 columns</p>\n",
       "</div>"
      ],
      "text/plain": [
       "              0           1           2           3           4           5  \\\n",
       "0    171.528746  173.489706  172.075246  172.297075  171.582026  169.844804   \n",
       "1    168.579392  169.543926  167.586213  176.865709  164.257554  177.389296   \n",
       "2    176.643367  169.680137  175.418520  171.940892  179.698440  169.936519   \n",
       "3    180.936662  175.347241  170.085269  171.324586  180.932398  165.674538   \n",
       "4    177.374338  172.933486  167.443324  157.052178  172.309116  173.766779   \n",
       "..          ...         ...         ...         ...         ...         ...   \n",
       "360  169.997481  168.822846  172.769178  171.768744  177.402411  176.493182   \n",
       "361  173.983614  173.650532  176.418112  168.608889  169.498769  175.352139   \n",
       "362  176.463237  165.947239  168.933424  165.515799  171.555231  178.305695   \n",
       "363  168.667508  177.314934  157.417665  182.888838  173.806810  162.079151   \n",
       "364  178.658251  168.291339  181.215527  173.152112  174.048140  169.460174   \n",
       "\n",
       "              6           7           8           9  avg_height  \n",
       "0    178.671042  174.283464  174.296455  167.420822  172.548939  \n",
       "1    171.979645  164.941361  177.906753  175.275884  171.432573  \n",
       "2    169.332098  172.170109  171.187831  171.143701  172.715161  \n",
       "3    176.644339  166.256302  175.056624  166.021991  172.827995  \n",
       "4    170.228572  174.543007  185.491449  176.068213  172.721046  \n",
       "..          ...         ...         ...         ...         ...  \n",
       "360  172.548642  163.978009  177.442528  167.801877  171.902490  \n",
       "361  168.420727  167.023912  167.077024  164.540676  170.457439  \n",
       "362  176.062416  169.183614  167.987355  176.494783  171.644879  \n",
       "363  166.719585  167.220830  165.991688  175.620287  169.772730  \n",
       "364  170.285916  175.800064  169.104862  173.217709  173.323409  \n",
       "\n",
       "[365 rows x 11 columns]"
      ]
     },
     "execution_count": 63,
     "metadata": {},
     "output_type": "execute_result"
    }
   ],
   "source": [
    "seed(47)\n",
    "# take your samples here\n",
    "d_mean = pd.DataFrame(year_sample)\n",
    "d_mean['avg_height']= d_mean.mean(axis=1)\n",
    "d_mean"
   ]
  },
  {
   "cell_type": "code",
   "execution_count": 64,
   "metadata": {},
   "outputs": [
    {
     "data": {
      "text/plain": [
       "Text(0.5, 1.0, 'Average height in Sample sizes of 10')"
      ]
     },
     "execution_count": 64,
     "metadata": {},
     "output_type": "execute_result"
    },
    {
     "data": {
      "image/png": "[encoded data removed]",
      "text/plain": [
       "<Figure size 432x288 with 1 Axes>"
      ]
     },
     "metadata": {
      "needs_background": "light"
     },
     "output_type": "display_data"
    }
   ],
   "source": [
    "plt.hist(d_mean, bins=15)\n",
    "plt.xlabel('avg_height (cm)')\n",
    "plt.ylabel('number of people')\n",
    "plt.title('Average height in Sample sizes of 10')"
   ]
  },
  {
   "cell_type": "markdown",
   "metadata": {},
   "source": [
    "The above is the distribution of the means of samples of size 10 taken from our population. The Central Limit Theorem tells us the expected mean of this distribution will be equal to the population mean, and standard deviation will be $\\sigma / \\sqrt n$, which, in this case, should be approximately 1.58."
   ]
  },
  {
   "cell_type": "markdown",
   "metadata": {},
   "source": [
    "__Q9:__ Verify the above results from the CLT."
   ]
  },
  {
   "cell_type": "markdown",
   "metadata": {},
   "source": [
    "__A:__"
   ]
  },
  {
   "cell_type": "code",
   "execution_count": 65,
   "metadata": {},
   "outputs": [
    {
     "data": {
      "text/plain": [
       "5.001285961960254"
      ]
     },
     "execution_count": 65,
     "metadata": {},
     "output_type": "execute_result"
    }
   ],
   "source": [
    "check= np.std(year_sample)\n",
    "check"
   ]
  },
  {
   "cell_type": "code",
   "execution_count": null,
   "metadata": {},
   "outputs": [],
   "source": []
  },
  {
   "cell_type": "markdown",
   "metadata": {},
   "source": [
    "Remember, in this instance, we knew our population parameters, that the average height really is 172 cm and the standard deviation is 5 cm, and we see some of our daily estimates of the population mean were as low as around 168 and some as high as 176."
   ]
  },
  {
   "cell_type": "markdown",
   "metadata": {},
   "source": [
    "__Q10:__ Repeat the above year's worth of samples but for a sample size of 50 (perhaps you had a bigger budget for conducting surveys that year)! Would you expect your distribution of sample means to be wider (more variable) or narrower (more consistent)? Compare your resultant summary statistics to those predicted by the CLT."
   ]
  },
  {
   "cell_type": "markdown",
   "metadata": {},
   "source": [
    "__A:__"
   ]
  },
  {
   "cell_type": "code",
   "execution_count": 66,
   "metadata": {},
   "outputs": [],
   "source": [
    "seed(47)\n",
    "# calculate daily means from the larger sample size here\n",
    "year_sample2 = [] \n",
    "for x in range(365):\n",
    "    height= townsfolk_sampler(50)\n",
    "    year_sample2.append(height)"
   ]
  },
  {
   "cell_type": "code",
   "execution_count": 67,
   "metadata": {},
   "outputs": [
    {
     "data": {
      "text/html": [
       "<div>\n",
       "<style scoped>\n",
       "    .dataframe tbody tr th:only-of-type {\n",
       "        vertical-align: middle;\n",
       "    }\n",
       "\n",
       "    .dataframe tbody tr th {\n",
       "        vertical-align: top;\n",
       "    }\n",
       "\n",
       "    .dataframe thead th {\n",
       "        text-align: right;\n",
       "    }\n",
       "</style>\n",
       "<table border=\"1\" class=\"dataframe\">\n",
       "  <thead>\n",
       "    <tr style=\"text-align: right;\">\n",
       "      <th></th>\n",
       "      <th>0</th>\n",
       "      <th>1</th>\n",
       "      <th>2</th>\n",
       "      <th>3</th>\n",
       "      <th>4</th>\n",
       "      <th>5</th>\n",
       "      <th>6</th>\n",
       "      <th>7</th>\n",
       "      <th>8</th>\n",
       "      <th>9</th>\n",
       "      <th>...</th>\n",
       "      <th>41</th>\n",
       "      <th>42</th>\n",
       "      <th>43</th>\n",
       "      <th>44</th>\n",
       "      <th>45</th>\n",
       "      <th>46</th>\n",
       "      <th>47</th>\n",
       "      <th>48</th>\n",
       "      <th>49</th>\n",
       "      <th>avg_height</th>\n",
       "    </tr>\n",
       "  </thead>\n",
       "  <tbody>\n",
       "    <tr>\n",
       "      <th>0</th>\n",
       "      <td>179.049490</td>\n",
       "      <td>168.541894</td>\n",
       "      <td>181.719740</td>\n",
       "      <td>176.564337</td>\n",
       "      <td>165.919681</td>\n",
       "      <td>170.656296</td>\n",
       "      <td>179.376645</td>\n",
       "      <td>166.401040</td>\n",
       "      <td>177.151050</td>\n",
       "      <td>169.410970</td>\n",
       "      <td>...</td>\n",
       "      <td>169.680137</td>\n",
       "      <td>175.418520</td>\n",
       "      <td>171.940892</td>\n",
       "      <td>179.698440</td>\n",
       "      <td>169.936519</td>\n",
       "      <td>169.332098</td>\n",
       "      <td>172.170109</td>\n",
       "      <td>171.187831</td>\n",
       "      <td>171.143701</td>\n",
       "      <td>172.781511</td>\n",
       "    </tr>\n",
       "    <tr>\n",
       "      <th>1</th>\n",
       "      <td>180.936662</td>\n",
       "      <td>175.347241</td>\n",
       "      <td>170.085269</td>\n",
       "      <td>171.324586</td>\n",
       "      <td>180.932398</td>\n",
       "      <td>165.674538</td>\n",
       "      <td>176.644339</td>\n",
       "      <td>166.256302</td>\n",
       "      <td>175.056624</td>\n",
       "      <td>166.021991</td>\n",
       "      <td>...</td>\n",
       "      <td>171.920620</td>\n",
       "      <td>175.032228</td>\n",
       "      <td>179.512177</td>\n",
       "      <td>176.736912</td>\n",
       "      <td>172.477442</td>\n",
       "      <td>176.423372</td>\n",
       "      <td>179.488282</td>\n",
       "      <td>165.543612</td>\n",
       "      <td>175.840300</td>\n",
       "      <td>172.797575</td>\n",
       "    </tr>\n",
       "    <tr>\n",
       "      <th>2</th>\n",
       "      <td>171.469476</td>\n",
       "      <td>175.022426</td>\n",
       "      <td>172.266393</td>\n",
       "      <td>174.814104</td>\n",
       "      <td>175.574700</td>\n",
       "      <td>174.465109</td>\n",
       "      <td>165.867823</td>\n",
       "      <td>176.751374</td>\n",
       "      <td>168.833416</td>\n",
       "      <td>173.664924</td>\n",
       "      <td>...</td>\n",
       "      <td>172.484158</td>\n",
       "      <td>167.833346</td>\n",
       "      <td>167.055371</td>\n",
       "      <td>170.637601</td>\n",
       "      <td>171.327419</td>\n",
       "      <td>179.858709</td>\n",
       "      <td>175.823315</td>\n",
       "      <td>170.975158</td>\n",
       "      <td>172.708736</td>\n",
       "      <td>172.939631</td>\n",
       "    </tr>\n",
       "    <tr>\n",
       "      <th>3</th>\n",
       "      <td>173.357966</td>\n",
       "      <td>173.120715</td>\n",
       "      <td>175.567553</td>\n",
       "      <td>173.690349</td>\n",
       "      <td>174.560650</td>\n",
       "      <td>177.258410</td>\n",
       "      <td>173.195456</td>\n",
       "      <td>170.787382</td>\n",
       "      <td>170.921934</td>\n",
       "      <td>178.688344</td>\n",
       "      <td>...</td>\n",
       "      <td>175.114171</td>\n",
       "      <td>171.530235</td>\n",
       "      <td>167.777417</td>\n",
       "      <td>180.350372</td>\n",
       "      <td>175.412102</td>\n",
       "      <td>168.575863</td>\n",
       "      <td>172.469324</td>\n",
       "      <td>174.885214</td>\n",
       "      <td>170.921284</td>\n",
       "      <td>173.354208</td>\n",
       "    </tr>\n",
       "    <tr>\n",
       "      <th>4</th>\n",
       "      <td>166.450924</td>\n",
       "      <td>176.386944</td>\n",
       "      <td>179.112162</td>\n",
       "      <td>168.812967</td>\n",
       "      <td>167.804689</td>\n",
       "      <td>171.580223</td>\n",
       "      <td>172.208958</td>\n",
       "      <td>170.475085</td>\n",
       "      <td>169.096207</td>\n",
       "      <td>172.194545</td>\n",
       "      <td>...</td>\n",
       "      <td>168.429028</td>\n",
       "      <td>175.190532</td>\n",
       "      <td>161.629977</td>\n",
       "      <td>171.457037</td>\n",
       "      <td>169.391810</td>\n",
       "      <td>176.568325</td>\n",
       "      <td>173.684093</td>\n",
       "      <td>164.677205</td>\n",
       "      <td>177.470470</td>\n",
       "      <td>171.148558</td>\n",
       "    </tr>\n",
       "    <tr>\n",
       "      <th>...</th>\n",
       "      <td>...</td>\n",
       "      <td>...</td>\n",
       "      <td>...</td>\n",
       "      <td>...</td>\n",
       "      <td>...</td>\n",
       "      <td>...</td>\n",
       "      <td>...</td>\n",
       "      <td>...</td>\n",
       "      <td>...</td>\n",
       "      <td>...</td>\n",
       "      <td>...</td>\n",
       "      <td>...</td>\n",
       "      <td>...</td>\n",
       "      <td>...</td>\n",
       "      <td>...</td>\n",
       "      <td>...</td>\n",
       "      <td>...</td>\n",
       "      <td>...</td>\n",
       "      <td>...</td>\n",
       "      <td>...</td>\n",
       "      <td>...</td>\n",
       "    </tr>\n",
       "    <tr>\n",
       "      <th>360</th>\n",
       "      <td>170.448940</td>\n",
       "      <td>168.431832</td>\n",
       "      <td>178.470872</td>\n",
       "      <td>170.700629</td>\n",
       "      <td>169.550001</td>\n",
       "      <td>181.372321</td>\n",
       "      <td>171.168860</td>\n",
       "      <td>169.482058</td>\n",
       "      <td>164.554918</td>\n",
       "      <td>173.675530</td>\n",
       "      <td>...</td>\n",
       "      <td>174.882801</td>\n",
       "      <td>180.506802</td>\n",
       "      <td>168.869427</td>\n",
       "      <td>173.240170</td>\n",
       "      <td>174.117385</td>\n",
       "      <td>174.552326</td>\n",
       "      <td>178.959251</td>\n",
       "      <td>178.013563</td>\n",
       "      <td>170.697582</td>\n",
       "      <td>173.399193</td>\n",
       "    </tr>\n",
       "    <tr>\n",
       "      <th>361</th>\n",
       "      <td>168.253959</td>\n",
       "      <td>175.954537</td>\n",
       "      <td>155.054287</td>\n",
       "      <td>185.063133</td>\n",
       "      <td>173.983563</td>\n",
       "      <td>159.070633</td>\n",
       "      <td>176.497731</td>\n",
       "      <td>164.359962</td>\n",
       "      <td>174.878329</td>\n",
       "      <td>179.127881</td>\n",
       "      <td>...</td>\n",
       "      <td>179.808741</td>\n",
       "      <td>170.278070</td>\n",
       "      <td>176.519972</td>\n",
       "      <td>171.278183</td>\n",
       "      <td>172.235451</td>\n",
       "      <td>171.254023</td>\n",
       "      <td>168.666662</td>\n",
       "      <td>178.606933</td>\n",
       "      <td>170.088623</td>\n",
       "      <td>172.579276</td>\n",
       "    </tr>\n",
       "    <tr>\n",
       "      <th>362</th>\n",
       "      <td>170.766792</td>\n",
       "      <td>170.505003</td>\n",
       "      <td>175.430275</td>\n",
       "      <td>175.969172</td>\n",
       "      <td>176.110387</td>\n",
       "      <td>170.701754</td>\n",
       "      <td>169.054942</td>\n",
       "      <td>165.302791</td>\n",
       "      <td>179.282556</td>\n",
       "      <td>174.291632</td>\n",
       "      <td>...</td>\n",
       "      <td>176.157655</td>\n",
       "      <td>164.643628</td>\n",
       "      <td>168.616836</td>\n",
       "      <td>171.353210</td>\n",
       "      <td>166.817791</td>\n",
       "      <td>164.290597</td>\n",
       "      <td>172.649132</td>\n",
       "      <td>170.149893</td>\n",
       "      <td>163.001611</td>\n",
       "      <td>171.752315</td>\n",
       "    </tr>\n",
       "    <tr>\n",
       "      <th>363</th>\n",
       "      <td>176.781413</td>\n",
       "      <td>168.123947</td>\n",
       "      <td>166.389343</td>\n",
       "      <td>175.620625</td>\n",
       "      <td>166.616193</td>\n",
       "      <td>174.806577</td>\n",
       "      <td>170.118866</td>\n",
       "      <td>180.144482</td>\n",
       "      <td>168.028367</td>\n",
       "      <td>177.791945</td>\n",
       "      <td>...</td>\n",
       "      <td>167.666473</td>\n",
       "      <td>168.838209</td>\n",
       "      <td>173.950451</td>\n",
       "      <td>170.255952</td>\n",
       "      <td>175.876502</td>\n",
       "      <td>169.755812</td>\n",
       "      <td>176.631973</td>\n",
       "      <td>164.916766</td>\n",
       "      <td>174.589988</td>\n",
       "      <td>171.927149</td>\n",
       "    </tr>\n",
       "    <tr>\n",
       "      <th>364</th>\n",
       "      <td>171.219367</td>\n",
       "      <td>182.718897</td>\n",
       "      <td>172.317569</td>\n",
       "      <td>174.785013</td>\n",
       "      <td>169.419400</td>\n",
       "      <td>169.298522</td>\n",
       "      <td>171.042114</td>\n",
       "      <td>175.520914</td>\n",
       "      <td>170.866835</td>\n",
       "      <td>173.796796</td>\n",
       "      <td>...</td>\n",
       "      <td>171.556430</td>\n",
       "      <td>172.847450</td>\n",
       "      <td>166.674287</td>\n",
       "      <td>177.367813</td>\n",
       "      <td>173.609337</td>\n",
       "      <td>175.254919</td>\n",
       "      <td>172.255329</td>\n",
       "      <td>185.015373</td>\n",
       "      <td>187.175815</td>\n",
       "      <td>172.788066</td>\n",
       "    </tr>\n",
       "  </tbody>\n",
       "</table>\n",
       "<p>365 rows × 51 columns</p>\n",
       "</div>"
      ],
      "text/plain": [
       "              0           1           2           3           4           5  \\\n",
       "0    179.049490  168.541894  181.719740  176.564337  165.919681  170.656296   \n",
       "1    180.936662  175.347241  170.085269  171.324586  180.932398  165.674538   \n",
       "2    171.469476  175.022426  172.266393  174.814104  175.574700  174.465109   \n",
       "3    173.357966  173.120715  175.567553  173.690349  174.560650  177.258410   \n",
       "4    166.450924  176.386944  179.112162  168.812967  167.804689  171.580223   \n",
       "..          ...         ...         ...         ...         ...         ...   \n",
       "360  170.448940  168.431832  178.470872  170.700629  169.550001  181.372321   \n",
       "361  168.253959  175.954537  155.054287  185.063133  173.983563  159.070633   \n",
       "362  170.766792  170.505003  175.430275  175.969172  176.110387  170.701754   \n",
       "363  176.781413  168.123947  166.389343  175.620625  166.616193  174.806577   \n",
       "364  171.219367  182.718897  172.317569  174.785013  169.419400  169.298522   \n",
       "\n",
       "              6           7           8           9  ...          41  \\\n",
       "0    179.376645  166.401040  177.151050  169.410970  ...  169.680137   \n",
       "1    176.644339  166.256302  175.056624  166.021991  ...  171.920620   \n",
       "2    165.867823  176.751374  168.833416  173.664924  ...  172.484158   \n",
       "3    173.195456  170.787382  170.921934  178.688344  ...  175.114171   \n",
       "4    172.208958  170.475085  169.096207  172.194545  ...  168.429028   \n",
       "..          ...         ...         ...         ...  ...         ...   \n",
       "360  171.168860  169.482058  164.554918  173.675530  ...  174.882801   \n",
       "361  176.497731  164.359962  174.878329  179.127881  ...  179.808741   \n",
       "362  169.054942  165.302791  179.282556  174.291632  ...  176.157655   \n",
       "363  170.118866  180.144482  168.028367  177.791945  ...  167.666473   \n",
       "364  171.042114  175.520914  170.866835  173.796796  ...  171.556430   \n",
       "\n",
       "             42          43          44          45          46          47  \\\n",
       "0    175.418520  171.940892  179.698440  169.936519  169.332098  172.170109   \n",
       "1    175.032228  179.512177  176.736912  172.477442  176.423372  179.488282   \n",
       "2    167.833346  167.055371  170.637601  171.327419  179.858709  175.823315   \n",
       "3    171.530235  167.777417  180.350372  175.412102  168.575863  172.469324   \n",
       "4    175.190532  161.629977  171.457037  169.391810  176.568325  173.684093   \n",
       "..          ...         ...         ...         ...         ...         ...   \n",
       "360  180.506802  168.869427  173.240170  174.117385  174.552326  178.959251   \n",
       "361  170.278070  176.519972  171.278183  172.235451  171.254023  168.666662   \n",
       "362  164.643628  168.616836  171.353210  166.817791  164.290597  172.649132   \n",
       "363  168.838209  173.950451  170.255952  175.876502  169.755812  176.631973   \n",
       "364  172.847450  166.674287  177.367813  173.609337  175.254919  172.255329   \n",
       "\n",
       "             48          49  avg_height  \n",
       "0    171.187831  171.143701  172.781511  \n",
       "1    165.543612  175.840300  172.797575  \n",
       "2    170.975158  172.708736  172.939631  \n",
       "3    174.885214  170.921284  173.354208  \n",
       "4    164.677205  177.470470  171.148558  \n",
       "..          ...         ...         ...  \n",
       "360  178.013563  170.697582  173.399193  \n",
       "361  178.606933  170.088623  172.579276  \n",
       "362  170.149893  163.001611  171.752315  \n",
       "363  164.916766  174.589988  171.927149  \n",
       "364  185.015373  187.175815  172.788066  \n",
       "\n",
       "[365 rows x 51 columns]"
      ]
     },
     "execution_count": 67,
     "metadata": {},
     "output_type": "execute_result"
    }
   ],
   "source": [
    "d_mean2 = pd.DataFrame(year_sample2)\n",
    "d_mean2['avg_height']= d_mean2.mean(axis=1)\n",
    "d_mean2"
   ]
  },
  {
   "cell_type": "code",
   "execution_count": 68,
   "metadata": {},
   "outputs": [
    {
     "data": {
      "text/plain": [
       "4.991965467489464"
      ]
     },
     "execution_count": 68,
     "metadata": {},
     "output_type": "execute_result"
    }
   ],
   "source": [
    "check2= np.std(year_sample2)\n",
    "check2"
   ]
  },
  {
   "cell_type": "markdown",
   "metadata": {},
   "source": [
    "What we've seen so far, then, is that we can estimate population parameters from a sample from the population, and that samples have their own distributions. Furthermore, the larger the sample size, the narrower are those sampling distributions."
   ]
  },
  {
   "cell_type": "markdown",
   "metadata": {},
   "source": [
    "### Normally testing time!"
   ]
  },
  {
   "cell_type": "markdown",
   "metadata": {},
   "source": [
    "All of the above is well and good. We've been sampling from a population we know is normally distributed, we've come to understand when to use $n$ and when to use $n-1$ in the denominator to calculate the spread of a distribution, and we've  seen the Central Limit Theorem in action for a sampling distribution. All seems very well behaved in Frequentist land. But, well, why should we really care?"
   ]
  },
  {
   "cell_type": "markdown",
   "metadata": {},
   "source": [
    "Remember, we rarely (if ever) actually know our population parameters but we still have to estimate them somehow. If we want to make inferences to conclusions like \"this observation is unusual\" or \"my population mean has changed\" then we need to have some idea of what the underlying distribution is so we can calculate relevant probabilities. In frequentist inference, we use the formulae above to deduce these population parameters. Take a moment in the next part of this assignment to refresh your understanding of how these probabilities work."
   ]
  },
  {
   "cell_type": "markdown",
   "metadata": {},
   "source": [
    "Recall some basic properties of the standard normal distribution, such as that about 68% of observations are within plus or minus 1 standard deviation of the mean. Check out the precise definition of a normal distribution on p. 394 of *AoS*. \n",
    "\n",
    "__Q11:__ Using this fact, calculate the probability of observing the value 1 or less in a single observation from the standard normal distribution. Hint: you may find it helpful to sketch the standard normal distribution (the familiar bell shape) and mark the number of standard deviations from the mean on the x-axis and shade the regions of the curve that contain certain percentages of the population."
   ]
  },
  {
   "cell_type": "markdown",
   "metadata": {},
   "source": [
    "__A:84"
   ]
  },
  {
   "cell_type": "markdown",
   "metadata": {},
   "source": [
    "Calculating this probability involved calculating the area under the curve from the value of 1 and below. To put it in mathematical terms, we need to *integrate* the probability density function. We could just add together the known areas of chunks (from -Inf to 0 and then 0 to $+\\sigma$ in the example above). One way to do this is to look up tables (literally). Fortunately, scipy has this functionality built in with the cdf() function."
   ]
  },
  {
   "cell_type": "markdown",
   "metadata": {},
   "source": [
    "__Q12:__ Use the cdf() function to answer the question above again and verify you get the same answer."
   ]
  },
  {
   "cell_type": "markdown",
   "metadata": {},
   "source": [
    "__A:__"
   ]
  },
  {
   "cell_type": "code",
   "execution_count": 71,
   "metadata": {},
   "outputs": [
    {
     "data": {
      "text/plain": [
       "0.8413447460685429"
      ]
     },
     "execution_count": 71,
     "metadata": {},
     "output_type": "execute_result"
    }
   ],
   "source": [
    "norm.cdf(1)"
   ]
  },
  {
   "cell_type": "markdown",
   "metadata": {},
   "source": [
    "__Q13:__ Using our knowledge of the population parameters for our townsfolks' heights, what is the probability of selecting one person at random and their height being 177 cm or less? Calculate this using both of the approaches given above."
   ]
  },
  {
   "cell_type": "markdown",
   "metadata": {},
   "source": [
    "__A:__"
   ]
  },
  {
   "cell_type": "code",
   "execution_count": 77,
   "metadata": {},
   "outputs": [
    {
     "data": {
      "text/plain": [
       "171.94366080916117"
      ]
     },
     "execution_count": 77,
     "metadata": {},
     "output_type": "execute_result"
    }
   ],
   "source": [
    "np.mean(year_sample2)"
   ]
  },
  {
   "cell_type": "code",
   "execution_count": 86,
   "metadata": {},
   "outputs": [
    {
     "data": {
      "text/plain": [
       "0.894"
      ]
     },
     "execution_count": 86,
     "metadata": {},
     "output_type": "execute_result"
    }
   ],
   "source": [
    "r= np.random.normal(171, 5, 2000)\n",
    "r_177 = np.sum(r<=177)/len(r)\n",
    "r_177"
   ]
  },
  {
   "cell_type": "markdown",
   "metadata": {},
   "source": [
    "__Q14:__ Turning this question around — suppose we randomly pick one person and measure their height and find they are 2.00 m tall. How surprised should we be at this result, given what we know about the population distribution? In other words, how likely would it be to obtain a value at least as extreme as this? Express this as a probability. "
   ]
  },
  {
   "cell_type": "markdown",
   "metadata": {},
   "source": [
    "__A:__"
   ]
  },
  {
   "cell_type": "code",
   "execution_count": 87,
   "metadata": {},
   "outputs": [
    {
     "ename": "TypeError",
     "evalue": "_sum_dispatcher() got an unexpected keyword argument 'r'",
     "output_type": "error",
     "traceback": [
      "\u001b[0;31m---------------------------------------------------------------------------\u001b[0m",
      "\u001b[0;31mTypeError\u001b[0m                                 Traceback (most recent call last)",
      "\u001b[0;32m<ipython-input-87-3b8e723490b7>\u001b[0m in \u001b[0;36m<module>\u001b[0;34m\u001b[0m\n\u001b[1;32m      1\u001b[0m \u001b[0mr\u001b[0m\u001b[0;34m=\u001b[0m \u001b[0mnp\u001b[0m\u001b[0;34m.\u001b[0m\u001b[0mrandom\u001b[0m\u001b[0;34m.\u001b[0m\u001b[0mnormal\u001b[0m\u001b[0;34m(\u001b[0m\u001b[0;36m171\u001b[0m\u001b[0;34m,\u001b[0m \u001b[0;36m5\u001b[0m\u001b[0;34m,\u001b[0m \u001b[0;36m2000\u001b[0m\u001b[0;34m)\u001b[0m\u001b[0;34m\u001b[0m\u001b[0;34m\u001b[0m\u001b[0m\n\u001b[0;32m----> 2\u001b[0;31m \u001b[0mr_177\u001b[0m \u001b[0;34m=\u001b[0m \u001b[0mnp\u001b[0m\u001b[0;34m.\u001b[0m\u001b[0msum\u001b[0m\u001b[0;34m(\u001b[0m\u001b[0mr\u001b[0m\u001b[0;34m=\u001b[0m\u001b[0;36m200\u001b[0m\u001b[0;34m)\u001b[0m\u001b[0;34m/\u001b[0m\u001b[0mlen\u001b[0m\u001b[0;34m(\u001b[0m\u001b[0mr\u001b[0m\u001b[0;34m)\u001b[0m\u001b[0;34m\u001b[0m\u001b[0;34m\u001b[0m\u001b[0m\n\u001b[0m\u001b[1;32m      3\u001b[0m \u001b[0mr_177\u001b[0m\u001b[0;34m\u001b[0m\u001b[0;34m\u001b[0m\u001b[0m\n",
      "\u001b[0;32m<__array_function__ internals>\u001b[0m in \u001b[0;36msum\u001b[0;34m(*args, **kwargs)\u001b[0m\n",
      "\u001b[0;31mTypeError\u001b[0m: _sum_dispatcher() got an unexpected keyword argument 'r'"
     ]
    }
   ],
   "source": [
    "r= np.random.normal(171, 5, 2000)\n",
    "r_177 = np.sum(r=200)/len(r)\n",
    "r_177"
   ]
  },
  {
   "cell_type": "code",
   "execution_count": null,
   "metadata": {},
   "outputs": [],
   "source": []
  },
  {
   "cell_type": "markdown",
   "metadata": {},
   "source": [
    "What we've just done is calculate the ***p-value*** of the observation of someone 2.00m tall (review *p*-values if you need to on p. 399 of *AoS*). We could calculate this probability by virtue of knowing the population parameters. We were then able to use the known properties of the relevant normal distribution to calculate the probability of observing a value at least as extreme as our test value."
   ]
  },
  {
   "cell_type": "markdown",
   "metadata": {},
   "source": [
    "We're about to come to a pinch, though. We've said a couple of times that we rarely, if ever, know the true population parameters; we have to estimate them from our sample and we cannot even begin to estimate the standard deviation from a single observation. \n",
    "\n",
    "This is very true and usually we have sample sizes larger than one. This means we can calculate the mean of the sample as our best estimate of the population mean and the standard deviation as our best estimate of the population standard deviation. \n",
    "\n",
    "In other words, we are now coming to deal with the sampling distributions we mentioned above as we are generally concerned with the properties of the sample means we obtain. \n",
    "\n",
    "Above, we highlighted one result from the CLT, whereby the sampling distribution (of the mean) becomes narrower and narrower with the square root of the sample size. We remind ourselves that another result from the CLT is that _even if the underlying population distribution is not normal, the sampling distribution will tend to become normal with sufficiently large sample size_. (**Check out p. 199 of AoS if you need to revise this**). This is the key driver for us 'requiring' a certain sample size, for example you may frequently see a minimum sample size of 30 stated in many places. In reality this is simply a rule of thumb; if the underlying distribution is approximately normal then your sampling distribution will already be pretty normal, but if the underlying distribution is heavily skewed then you'd want to increase your sample size."
   ]
  },
  {
   "cell_type": "markdown",
   "metadata": {},
   "source": [
    "__Q15:__ Let's now start from the position of knowing nothing about the heights of people in our town.\n",
    "* Use the random seed of 47, to randomly sample the heights of 50 townsfolk\n",
    "* Estimate the population mean using np.mean\n",
    "* Estimate the population standard deviation using np.std (remember which denominator to use!)\n",
    "* Calculate the (95%) [margin of error](https://www.statisticshowto.datasciencecentral.com/probability-and-statistics/hypothesis-testing/margin-of-error/#WhatMofE) (use the exact critial z value to 2 decimal places - [look this up](https://www.statisticshowto.datasciencecentral.com/probability-and-statistics/find-critical-values/) or use norm.ppf()) Recall that the ***margin of error*** is mentioned on p. 189 of the *AoS* and discussed in depth in that chapter). \n",
    "* Calculate the 95% Confidence Interval of the mean (***confidence intervals*** are defined on p. 385 of *AoS*) \n",
    "* Does this interval include the true population mean?"
   ]
  },
  {
   "cell_type": "markdown",
   "metadata": {},
   "source": [
    "__A:__"
   ]
  },
  {
   "cell_type": "code",
   "execution_count": 91,
   "metadata": {},
   "outputs": [
    {
     "data": {
      "text/plain": [
       "(172.7815108576788, 4.990721713276779)"
      ]
     },
     "execution_count": 91,
     "metadata": {},
     "output_type": "execute_result"
    }
   ],
   "source": [
    "seed(47)\n",
    "# take your sample now\n",
    "new_sd=np.mean(townsfolk_sampler(50))\n",
    "new_avg=np.std(townsfolk_sampler(50))\n",
    "new_sd, new_avg"
   ]
  },
  {
   "cell_type": "code",
   "execution_count": 94,
   "metadata": {},
   "outputs": [
    {
     "data": {
      "text/plain": [
       "1.959963984540054"
      ]
     },
     "execution_count": 94,
     "metadata": {},
     "output_type": "execute_result"
    }
   ],
   "source": [
    "z= norm.ppf(.975)\n",
    "z"
   ]
  },
  {
   "cell_type": "code",
   "execution_count": 98,
   "metadata": {},
   "outputs": [
    {
     "data": {
      "text/plain": [
       "1.3833320617390528"
      ]
     },
     "execution_count": 98,
     "metadata": {},
     "output_type": "execute_result"
    }
   ],
   "source": [
    "margin = z * (new_avg/np.sqrt(50))\n",
    "margin"
   ]
  },
  {
   "cell_type": "code",
   "execution_count": 99,
   "metadata": {},
   "outputs": [
    {
     "data": {
      "text/plain": [
       "(174.16484291941785, 171.39817879593974)"
      ]
     },
     "execution_count": 99,
     "metadata": {},
     "output_type": "execute_result"
    }
   ],
   "source": [
    "high = new_sd + margin\n",
    "low = new_sd - margin\n",
    "high, low"
   ]
  },
  {
   "cell_type": "code",
   "execution_count": null,
   "metadata": {},
   "outputs": [],
   "source": []
  },
  {
   "cell_type": "markdown",
   "metadata": {},
   "source": [
    "__Q16:__ Above, we calculated the confidence interval using the critical z value. What is the problem with this? What requirement, or requirements, are we (strictly) failing?"
   ]
  },
  {
   "cell_type": "markdown",
   "metadata": {},
   "source": [
    "__A: We calculated an estimate because we used a sample section of the population "
   ]
  },
  {
   "cell_type": "markdown",
   "metadata": {},
   "source": [
    "__Q17:__ Calculate the 95% confidence interval for the mean using the _t_ distribution. Is this wider or narrower than that based on the normal distribution above? If you're unsure, you may find this [resource](https://www.statisticshowto.datasciencecentral.com/probability-and-statistics/confidence-interval/) useful. For calculating the critical value, remember how you could calculate this for the normal distribution using norm.ppf()."
   ]
  },
  {
   "cell_type": "markdown",
   "metadata": {},
   "source": [
    "__A:__"
   ]
  },
  {
   "cell_type": "code",
   "execution_count": null,
   "metadata": {},
   "outputs": [],
   "source": []
  },
  {
   "cell_type": "code",
   "execution_count": null,
   "metadata": {},
   "outputs": [],
   "source": []
  },
  {
   "cell_type": "code",
   "execution_count": null,
   "metadata": {},
   "outputs": [],
   "source": []
  },
  {
   "cell_type": "markdown",
   "metadata": {},
   "source": [
    "This is slightly wider than the previous confidence interval. This reflects the greater uncertainty given that we are estimating population parameters from a sample."
   ]
  },
  {
   "cell_type": "markdown",
   "metadata": {},
   "source": [
    "## 4. Learning outcomes"
   ]
  },
  {
   "cell_type": "markdown",
   "metadata": {},
   "source": [
    "Having completed this project notebook, you now have hands-on experience:\n",
    "* sampling and calculating probabilities from a normal distribution\n",
    "* identifying the correct way to estimate the standard deviation of a population (the population parameter) from a sample\n",
    "* with sampling distribution and now know how the Central Limit Theorem applies\n",
    "* with how to calculate critical values and confidence intervals"
   ]
  },
  {
   "cell_type": "code",
   "execution_count": null,
   "metadata": {},
   "outputs": [],
   "source": []
  }
 ],
 "metadata": {
  "kernelspec": {
   "display_name": "Python 3",
   "language": "python",
   "name": "python3"
  },
  "language_info": {
   "codemirror_mode": {
    "name": "ipython",
    "version": 3
   },
   "file_extension": ".py",
   "mimetype": "text/x-python",
   "name": "python",
   "nbconvert_exporter": "python",
   "pygments_lexer": "ipython3",
   "version": "3.8.3"
  }
 },
 "nbformat": 4,
 "nbformat_minor": 2
}
